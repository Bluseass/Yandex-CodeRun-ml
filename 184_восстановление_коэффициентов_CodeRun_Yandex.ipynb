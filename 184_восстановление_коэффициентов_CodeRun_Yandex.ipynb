{
  "nbformat": 4,
  "nbformat_minor": 0,
  "metadata": {
    "colab": {
      "provenance": [],
      "toc_visible": true,
      "mount_file_id": "1ixzyPBIZAy2Ls6djhjIzxakJmGwA9Ljv",
      "authorship_tag": "ABX9TyNsTq3Y52vMk/DDuBfNoMqZ"
    },
    "kernelspec": {
      "name": "python3",
      "display_name": "Python 3"
    },
    "language_info": {
      "name": "python"
    }
  },
  "cells": [
    {
      "cell_type": "code",
      "source": [
        "import pandas as pd\n",
        "import numpy as np\n",
        "from scipy.optimize import curve_fit\n",
        "\n",
        "# Чтение данных\n",
        "path = '/content/drive/MyDrive/coderun yandex/184 коэфициент/data.csv'\n",
        "new_column_names = ['x', 'Fx']\n",
        "df = pd.read_csv(path, names=new_column_names)\n",
        "x = df['x']\n",
        "f_x = df['Fx']\n",
        "\n",
        "# Определение функции\n",
        "def f(x, a, b, c):\n",
        "    return (a * np.sin(x) + b * np.log(x))**2 + c * x**2\n",
        "\n",
        "# Начальные значения параметров\n",
        "initial_guess = [0, 0, 0]\n",
        "\n",
        "# метод Левенберга-Марквардта\n",
        "optimal_params, _ = curve_fit(f, x, f_x, p0=initial_guess)\n",
        "\n",
        "# Вывод результатов\n",
        "print(\"Оптимальные параметры:\", optimal_params)\n"
      ],
      "metadata": {
        "colab": {
          "base_uri": "https://localhost:8080/"
        },
        "id": "S8miJdXWkQhv",
        "outputId": "54eef995-43a9-492d-e778-11316ea9f66c"
      },
      "execution_count": null,
      "outputs": [
        {
          "output_type": "stream",
          "name": "stdout",
          "text": [
            "Оптимальные параметры: [3.14155177 2.71840382 3.99996153]\n"
          ]
        }
      ]
    }
  ]
}