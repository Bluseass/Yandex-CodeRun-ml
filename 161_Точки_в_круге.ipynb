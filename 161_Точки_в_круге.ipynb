{
  "nbformat": 4,
  "nbformat_minor": 0,
  "metadata": {
    "colab": {
      "provenance": [],
      "authorship_tag": "ABX9TyNfo0Ww5LtNbmfLYQ5Y6DIw",
      "include_colab_link": true
    },
    "kernelspec": {
      "name": "python3",
      "display_name": "Python 3"
    },
    "language_info": {
      "name": "python"
    }
  },
  "cells": [
    {
      "cell_type": "markdown",
      "metadata": {
        "id": "view-in-github",
        "colab_type": "text"
      },
      "source": [
        "<a href=\"https://colab.research.google.com/github/Bluseass/Yandex-CodeRun-ml/blob/main/161_%D0%A2%D0%BE%D1%87%D0%BA%D0%B8_%D0%B2_%D0%BA%D1%80%D1%83%D0%B3%D0%B5.ipynb\" target=\"_parent\"><img src=\"https://colab.research.google.com/assets/colab-badge.svg\" alt=\"Open In Colab\"/></a>"
      ]
    },
    {
      "cell_type": "code",
      "source": [
        "import numpy as np\n",
        "\n",
        "data = []\n",
        "with open('input.txt','r') as f:\n",
        "    for line in f:\n",
        "        data.append([float(x) for x in line.split()])\n",
        "\n",
        "res = []\n",
        "temp = np.zeros(shape=(1000,2))\n",
        "\n",
        "for i in range(100):\n",
        "    temp[:,0] = data[i][0::2]\n",
        "    temp[:,1] = data[i][1::2]\n",
        "    if temp.std()>0.45:\n",
        "        res.append(2)\n",
        "    else:\n",
        "        res.append(1)\n",
        "\n",
        "with open(\"output.txt\", \"w+\") as file:\n",
        "    file.write('\\n'.join([str(i) for i in res]))"
      ],
      "metadata": {
        "id": "AcM0VDyN1as3"
      },
      "execution_count": null,
      "outputs": []
    },
    {
      "cell_type": "code",
      "source": [],
      "metadata": {
        "id": "6CihT6Yh3Im9"
      },
      "execution_count": null,
      "outputs": []
    }
  ]
}